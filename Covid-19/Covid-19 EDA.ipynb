{
 "cells": [
  {
   "cell_type": "markdown",
   "id": "8de364be",
   "metadata": {},
   "source": [
    "# Covid-19 EDA"
   ]
  },
  {
   "cell_type": "code",
   "execution_count": 3,
   "id": "eaa1513d",
   "metadata": {},
   "outputs": [],
   "source": [
    "import pandas as pd\n",
    "import numpy as np\n",
    "import matplotlib\n",
    "import matplotlib.pyplot as plt\n",
    "%matplotlib inline\n",
    "import seaborn as sns"
   ]
  },
  {
   "cell_type": "code",
   "execution_count": 9,
   "id": "cf3a2594",
   "metadata": {},
   "outputs": [],
   "source": [
    "df = pd.read_csv(\"C:/Users/hp/Projects/Covid-19/covid_19.csv\")"
   ]
  },
  {
   "cell_type": "code",
   "execution_count": 11,
   "id": "76573ec6",
   "metadata": {},
   "outputs": [
    {
     "data": {
      "text/html": [
       "<div>\n",
       "<style scoped>\n",
       "    .dataframe tbody tr th:only-of-type {\n",
       "        vertical-align: middle;\n",
       "    }\n",
       "\n",
       "    .dataframe tbody tr th {\n",
       "        vertical-align: top;\n",
       "    }\n",
       "\n",
       "    .dataframe thead th {\n",
       "        text-align: right;\n",
       "    }\n",
       "</style>\n",
       "<table border=\"1\" class=\"dataframe\">\n",
       "  <thead>\n",
       "    <tr style=\"text-align: right;\">\n",
       "      <th></th>\n",
       "      <th>country</th>\n",
       "      <th>continent</th>\n",
       "      <th>population</th>\n",
       "      <th>day</th>\n",
       "      <th>time</th>\n",
       "      <th>Cases</th>\n",
       "      <th>Recovered</th>\n",
       "      <th>Deaths</th>\n",
       "      <th>Tests</th>\n",
       "    </tr>\n",
       "  </thead>\n",
       "  <tbody>\n",
       "    <tr>\n",
       "      <th>0</th>\n",
       "      <td>Saint-Helena</td>\n",
       "      <td>Africa</td>\n",
       "      <td>6115.0</td>\n",
       "      <td>2024-06-30</td>\n",
       "      <td>2024-06-30T16:15:16+00:00</td>\n",
       "      <td>2166</td>\n",
       "      <td>2.0</td>\n",
       "      <td>NaN</td>\n",
       "      <td>NaN</td>\n",
       "    </tr>\n",
       "    <tr>\n",
       "      <th>1</th>\n",
       "      <td>Falkland-Islands</td>\n",
       "      <td>South-America</td>\n",
       "      <td>3539.0</td>\n",
       "      <td>2024-06-30</td>\n",
       "      <td>2024-06-30T16:15:16+00:00</td>\n",
       "      <td>1930</td>\n",
       "      <td>1930.0</td>\n",
       "      <td>NaN</td>\n",
       "      <td>8632.0</td>\n",
       "    </tr>\n",
       "    <tr>\n",
       "      <th>2</th>\n",
       "      <td>Montserrat</td>\n",
       "      <td>North-America</td>\n",
       "      <td>4965.0</td>\n",
       "      <td>2024-06-30</td>\n",
       "      <td>2024-06-30T16:15:16+00:00</td>\n",
       "      <td>1403</td>\n",
       "      <td>1376.0</td>\n",
       "      <td>8.0</td>\n",
       "      <td>17762.0</td>\n",
       "    </tr>\n",
       "    <tr>\n",
       "      <th>3</th>\n",
       "      <td>Diamond-Princess</td>\n",
       "      <td>NaN</td>\n",
       "      <td>NaN</td>\n",
       "      <td>2024-06-30</td>\n",
       "      <td>2024-06-30T16:15:16+00:00</td>\n",
       "      <td>712</td>\n",
       "      <td>699.0</td>\n",
       "      <td>13.0</td>\n",
       "      <td>NaN</td>\n",
       "    </tr>\n",
       "    <tr>\n",
       "      <th>4</th>\n",
       "      <td>Vatican-City</td>\n",
       "      <td>Europe</td>\n",
       "      <td>799.0</td>\n",
       "      <td>2024-06-30</td>\n",
       "      <td>2024-06-30T16:15:16+00:00</td>\n",
       "      <td>29</td>\n",
       "      <td>29.0</td>\n",
       "      <td>NaN</td>\n",
       "      <td>NaN</td>\n",
       "    </tr>\n",
       "  </tbody>\n",
       "</table>\n",
       "</div>"
      ],
      "text/plain": [
       "            country      continent  population         day  \\\n",
       "0      Saint-Helena         Africa      6115.0  2024-06-30   \n",
       "1  Falkland-Islands  South-America      3539.0  2024-06-30   \n",
       "2        Montserrat  North-America      4965.0  2024-06-30   \n",
       "3  Diamond-Princess            NaN         NaN  2024-06-30   \n",
       "4      Vatican-City         Europe       799.0  2024-06-30   \n",
       "\n",
       "                        time  Cases  Recovered  Deaths    Tests  \n",
       "0  2024-06-30T16:15:16+00:00   2166        2.0     NaN      NaN  \n",
       "1  2024-06-30T16:15:16+00:00   1930     1930.0     NaN   8632.0  \n",
       "2  2024-06-30T16:15:16+00:00   1403     1376.0     8.0  17762.0  \n",
       "3  2024-06-30T16:15:16+00:00    712      699.0    13.0      NaN  \n",
       "4  2024-06-30T16:15:16+00:00     29       29.0     NaN      NaN  "
      ]
     },
     "execution_count": 11,
     "metadata": {},
     "output_type": "execute_result"
    }
   ],
   "source": [
    "df.head()"
   ]
  },
  {
   "cell_type": "code",
   "execution_count": 12,
   "id": "e54a335f",
   "metadata": {},
   "outputs": [
    {
     "name": "stdout",
     "output_type": "stream",
     "text": [
      "<class 'pandas.core.frame.DataFrame'>\n",
      "RangeIndex: 238 entries, 0 to 237\n",
      "Data columns (total 9 columns):\n",
      " #   Column      Non-Null Count  Dtype  \n",
      "---  ------      --------------  -----  \n",
      " 0   country     238 non-null    object \n",
      " 1   continent   236 non-null    object \n",
      " 2   population  229 non-null    float64\n",
      " 3   day         238 non-null    object \n",
      " 4   time        238 non-null    object \n",
      " 5   Cases       238 non-null    int64  \n",
      " 6   Recovered   190 non-null    float64\n",
      " 7   Deaths      233 non-null    float64\n",
      " 8   Tests       213 non-null    float64\n",
      "dtypes: float64(4), int64(1), object(4)\n",
      "memory usage: 16.9+ KB\n"
     ]
    }
   ],
   "source": [
    "df.info()"
   ]
  },
  {
   "cell_type": "code",
   "execution_count": 13,
   "id": "c5961283",
   "metadata": {},
   "outputs": [
    {
     "data": {
      "text/plain": [
       "Index(['country', 'continent', 'population', 'day', 'time', 'Cases',\n",
       "       'Recovered', 'Deaths', 'Tests'],\n",
       "      dtype='object')"
      ]
     },
     "execution_count": 13,
     "metadata": {},
     "output_type": "execute_result"
    }
   ],
   "source": [
    "df.columns"
   ]
  },
  {
   "cell_type": "code",
   "execution_count": 14,
   "id": "e4a19a9a",
   "metadata": {},
   "outputs": [
    {
     "data": {
      "text/plain": [
       "(238, 9)"
      ]
     },
     "execution_count": 14,
     "metadata": {},
     "output_type": "execute_result"
    }
   ],
   "source": [
    "df.shape"
   ]
  },
  {
   "cell_type": "code",
   "execution_count": 15,
   "id": "fa014b72",
   "metadata": {},
   "outputs": [
    {
     "data": {
      "text/html": [
       "<div>\n",
       "<style scoped>\n",
       "    .dataframe tbody tr th:only-of-type {\n",
       "        vertical-align: middle;\n",
       "    }\n",
       "\n",
       "    .dataframe tbody tr th {\n",
       "        vertical-align: top;\n",
       "    }\n",
       "\n",
       "    .dataframe thead th {\n",
       "        text-align: right;\n",
       "    }\n",
       "</style>\n",
       "<table border=\"1\" class=\"dataframe\">\n",
       "  <thead>\n",
       "    <tr style=\"text-align: right;\">\n",
       "      <th></th>\n",
       "      <th>population</th>\n",
       "      <th>Cases</th>\n",
       "      <th>Recovered</th>\n",
       "      <th>Deaths</th>\n",
       "      <th>Tests</th>\n",
       "    </tr>\n",
       "  </thead>\n",
       "  <tbody>\n",
       "    <tr>\n",
       "      <th>count</th>\n",
       "      <td>2.290000e+02</td>\n",
       "      <td>2.380000e+02</td>\n",
       "      <td>1.900000e+02</td>\n",
       "      <td>2.330000e+02</td>\n",
       "      <td>2.130000e+02</td>\n",
       "    </tr>\n",
       "    <tr>\n",
       "      <th>mean</th>\n",
       "      <td>3.469404e+07</td>\n",
       "      <td>8.883449e+06</td>\n",
       "      <td>1.006214e+07</td>\n",
       "      <td>9.026621e+04</td>\n",
       "      <td>3.298829e+07</td>\n",
       "    </tr>\n",
       "    <tr>\n",
       "      <th>std</th>\n",
       "      <td>1.386374e+08</td>\n",
       "      <td>5.193031e+07</td>\n",
       "      <td>5.555519e+07</td>\n",
       "      <td>5.163434e+05</td>\n",
       "      <td>1.198779e+08</td>\n",
       "    </tr>\n",
       "    <tr>\n",
       "      <th>min</th>\n",
       "      <td>7.990000e+02</td>\n",
       "      <td>9.000000e+00</td>\n",
       "      <td>2.000000e+00</td>\n",
       "      <td>1.000000e+00</td>\n",
       "      <td>7.850000e+03</td>\n",
       "    </tr>\n",
       "    <tr>\n",
       "      <th>25%</th>\n",
       "      <td>4.454310e+05</td>\n",
       "      <td>2.741875e+04</td>\n",
       "      <td>2.197250e+04</td>\n",
       "      <td>2.250000e+02</td>\n",
       "      <td>3.478150e+05</td>\n",
       "    </tr>\n",
       "    <tr>\n",
       "      <th>50%</th>\n",
       "      <td>5.797805e+06</td>\n",
       "      <td>2.320425e+05</td>\n",
       "      <td>2.351455e+05</td>\n",
       "      <td>2.570000e+03</td>\n",
       "      <td>2.226216e+06</td>\n",
       "    </tr>\n",
       "    <tr>\n",
       "      <th>75%</th>\n",
       "      <td>2.210284e+07</td>\n",
       "      <td>1.565481e+06</td>\n",
       "      <td>2.078212e+06</td>\n",
       "      <td>1.805700e+04</td>\n",
       "      <td>1.346373e+07</td>\n",
       "    </tr>\n",
       "    <tr>\n",
       "      <th>max</th>\n",
       "      <td>1.448471e+09</td>\n",
       "      <td>7.047539e+08</td>\n",
       "      <td>6.756198e+08</td>\n",
       "      <td>7.010681e+06</td>\n",
       "      <td>1.186852e+09</td>\n",
       "    </tr>\n",
       "  </tbody>\n",
       "</table>\n",
       "</div>"
      ],
      "text/plain": [
       "         population         Cases     Recovered        Deaths         Tests\n",
       "count  2.290000e+02  2.380000e+02  1.900000e+02  2.330000e+02  2.130000e+02\n",
       "mean   3.469404e+07  8.883449e+06  1.006214e+07  9.026621e+04  3.298829e+07\n",
       "std    1.386374e+08  5.193031e+07  5.555519e+07  5.163434e+05  1.198779e+08\n",
       "min    7.990000e+02  9.000000e+00  2.000000e+00  1.000000e+00  7.850000e+03\n",
       "25%    4.454310e+05  2.741875e+04  2.197250e+04  2.250000e+02  3.478150e+05\n",
       "50%    5.797805e+06  2.320425e+05  2.351455e+05  2.570000e+03  2.226216e+06\n",
       "75%    2.210284e+07  1.565481e+06  2.078212e+06  1.805700e+04  1.346373e+07\n",
       "max    1.448471e+09  7.047539e+08  6.756198e+08  7.010681e+06  1.186852e+09"
      ]
     },
     "execution_count": 15,
     "metadata": {},
     "output_type": "execute_result"
    }
   ],
   "source": [
    "df.describe()"
   ]
  },
  {
   "cell_type": "code",
   "execution_count": 16,
   "id": "711c375e",
   "metadata": {},
   "outputs": [
    {
     "data": {
      "text/plain": [
       "country        0\n",
       "continent      2\n",
       "population     9\n",
       "day            0\n",
       "time           0\n",
       "Cases          0\n",
       "Recovered     48\n",
       "Deaths         5\n",
       "Tests         25\n",
       "dtype: int64"
      ]
     },
     "execution_count": 16,
     "metadata": {},
     "output_type": "execute_result"
    }
   ],
   "source": [
    "df.isnull().sum()"
   ]
  },
  {
   "cell_type": "code",
   "execution_count": 19,
   "id": "12bc5e06",
   "metadata": {},
   "outputs": [
    {
     "data": {
      "text/plain": [
       "0          Saint-Helena\n",
       "1      Falkland-Islands\n",
       "2            Montserrat\n",
       "3      Diamond-Princess\n",
       "4          Vatican-City\n",
       "             ...       \n",
       "233           Argentina\n",
       "234         Netherlands\n",
       "235              Mexico\n",
       "236                Iran\n",
       "237           Indonesia\n",
       "Name: country, Length: 238, dtype: object"
      ]
     },
     "execution_count": 19,
     "metadata": {},
     "output_type": "execute_result"
    }
   ],
   "source": [
    "df['country']"
   ]
  },
  {
   "cell_type": "code",
   "execution_count": 20,
   "id": "2f8cd65a",
   "metadata": {},
   "outputs": [],
   "source": [
    "mean_recovered = df['Recovered'].mean()"
   ]
  },
  {
   "cell_type": "code",
   "execution_count": 21,
   "id": "d17242ba",
   "metadata": {},
   "outputs": [],
   "source": [
    "df['Recovered'].fillna(mean_recovered, inplace=True)"
   ]
  },
  {
   "cell_type": "code",
   "execution_count": 22,
   "id": "74444bc1",
   "metadata": {},
   "outputs": [
    {
     "data": {
      "text/plain": [
       "country        0\n",
       "continent      2\n",
       "population     9\n",
       "day            0\n",
       "time           0\n",
       "Cases          0\n",
       "Recovered      0\n",
       "Deaths         5\n",
       "Tests         25\n",
       "dtype: int64"
      ]
     },
     "execution_count": 22,
     "metadata": {},
     "output_type": "execute_result"
    }
   ],
   "source": [
    "df.isnull().sum()"
   ]
  },
  {
   "cell_type": "code",
   "execution_count": 23,
   "id": "43966fe9",
   "metadata": {},
   "outputs": [],
   "source": [
    "mean_test = df['Tests'].mean()"
   ]
  },
  {
   "cell_type": "code",
   "execution_count": 24,
   "id": "e62a7833",
   "metadata": {},
   "outputs": [],
   "source": [
    "df['Tests'].fillna(mean_test, inplace=True)"
   ]
  },
  {
   "cell_type": "code",
   "execution_count": 25,
   "id": "e3ed4a4f",
   "metadata": {},
   "outputs": [
    {
     "data": {
      "text/plain": [
       "country       0\n",
       "continent     2\n",
       "population    9\n",
       "day           0\n",
       "time          0\n",
       "Cases         0\n",
       "Recovered     0\n",
       "Deaths        5\n",
       "Tests         0\n",
       "dtype: int64"
      ]
     },
     "execution_count": 25,
     "metadata": {},
     "output_type": "execute_result"
    }
   ],
   "source": [
    "df.isnull().sum()"
   ]
  },
  {
   "cell_type": "code",
   "execution_count": 26,
   "id": "b846f1b2",
   "metadata": {},
   "outputs": [],
   "source": [
    "mean_death = df['Deaths'].mean()\n",
    "df['Deaths'].fillna(mean_death, inplace=True)"
   ]
  },
  {
   "cell_type": "code",
   "execution_count": 27,
   "id": "1865afb4",
   "metadata": {},
   "outputs": [
    {
     "data": {
      "text/plain": [
       "country       0\n",
       "continent     2\n",
       "population    9\n",
       "day           0\n",
       "time          0\n",
       "Cases         0\n",
       "Recovered     0\n",
       "Deaths        0\n",
       "Tests         0\n",
       "dtype: int64"
      ]
     },
     "execution_count": 27,
     "metadata": {},
     "output_type": "execute_result"
    }
   ],
   "source": [
    "df.isnull().sum()"
   ]
  },
  {
   "cell_type": "code",
   "execution_count": null,
   "id": "12900c70",
   "metadata": {},
   "outputs": [],
   "source": []
  }
 ],
 "metadata": {
  "kernelspec": {
   "display_name": "Python 3 (ipykernel)",
   "language": "python",
   "name": "python3"
  },
  "language_info": {
   "codemirror_mode": {
    "name": "ipython",
    "version": 3
   },
   "file_extension": ".py",
   "mimetype": "text/x-python",
   "name": "python",
   "nbconvert_exporter": "python",
   "pygments_lexer": "ipython3",
   "version": "3.11.7"
  }
 },
 "nbformat": 4,
 "nbformat_minor": 5
}
